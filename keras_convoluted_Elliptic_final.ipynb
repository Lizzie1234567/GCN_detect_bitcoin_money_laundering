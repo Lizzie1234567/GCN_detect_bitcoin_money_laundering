{
  "nbformat": 4,
  "nbformat_minor": 0,
  "metadata": {
    "colab": {
      "name": "keras_convoluted_Elliptic_final.ipynb",
      "provenance": [],
      "collapsed_sections": []
    },
    "kernelspec": {
      "name": "python3",
      "display_name": "Python 3"
    },
    "language_info": {
      "name": "python"
    }
  },
  "cells": [
    {
      "cell_type": "markdown",
      "metadata": {
        "id": "xMP_bxKcdcHb"
      },
      "source": [
        "# Applying a GCN to the elliptic Bitcoin blockchain transaction dataset"
      ]
    },
    {
      "cell_type": "code",
      "metadata": {
        "id": "SZDELv3SMrKh"
      },
      "source": [
        "import os\n",
        "import pandas as pd\n",
        "import numpy as np\n",
        "import networkx as nx\n",
        "import matplotlib.pyplot as plt\n",
        "import tensorflow as tf\n",
        "from tensorflow import keras\n",
        "from tensorflow.keras import layers\n",
        "import sklearn \n"
      ],
      "execution_count": 1,
      "outputs": []
    },
    {
      "cell_type": "code",
      "metadata": {
        "id": "CfjD1fXne_iO"
      },
      "source": [
        "def run_experiment(model, x_train, y_train):\n",
        "    # Compile the model.\n",
        "    model.compile(\n",
        "        optimizer=keras.optimizers.Adam(learning_rate),\n",
        "        loss=keras.losses.SparseCategoricalCrossentropy(from_logits=True),\n",
        "        metrics=[keras.metrics.SparseCategoricalAccuracy(name=\"acc\")],\n",
        "    )\n",
        "    # Create an early stopping callback.\n",
        "    early_stopping = keras.callbacks.EarlyStopping(\n",
        "        monitor=\"val_acc\", patience=50, restore_best_weights=True\n",
        "    )\n",
        "    # Fit the model.\n",
        "    history = model.fit(\n",
        "        x=x_train,\n",
        "        y=y_train,\n",
        "        epochs=num_epochs,\n",
        "        batch_size=batch_size,\n",
        "        validation_split=0.15,\n",
        "        callbacks=[early_stopping],\n",
        "    )\n",
        "\n",
        "    return history\n"
      ],
      "execution_count": 25,
      "outputs": []
    },
    {
      "cell_type": "code",
      "metadata": {
        "id": "aai3RemOPAFI"
      },
      "source": [
        "\n",
        "def display_learning_curves(history):\n",
        "    fig, (ax1, ax2) = plt.subplots(1, 2, figsize=(15, 5))\n",
        "\n",
        "    ax1.plot(history.history[\"loss\"])\n",
        "    ax1.plot(history.history[\"val_loss\"])\n",
        "    ax1.legend([\"train\", \"test\"], loc=\"upper right\")\n",
        "    ax1.set_xlabel(\"Epochs\")\n",
        "    ax1.set_ylabel(\"Loss\")\n",
        "\n",
        "    ax2.plot(history.history[\"acc\"])\n",
        "    ax2.plot(history.history[\"val_acc\"])\n",
        "    ax2.legend([\"train\", \"test\"], loc=\"upper right\")\n",
        "    ax2.set_xlabel(\"Epochs\")\n",
        "    ax2.set_ylabel(\"Accuracy\")\n",
        "    plt.show()\n"
      ],
      "execution_count": 2,
      "outputs": []
    },
    {
      "cell_type": "code",
      "metadata": {
        "id": "HVsbAKltPCr7"
      },
      "source": [
        "\n",
        "def create_ffn(hidden_units, dropout_rate, name=None):\n",
        "    fnn_layers = []\n",
        "\n",
        "    for units in hidden_units:\n",
        "        fnn_layers.append(layers.BatchNormalization())\n",
        "        fnn_layers.append(layers.Dropout(dropout_rate))\n",
        "        fnn_layers.append(layers.Dense(units, activation=tf.nn.gelu))\n",
        "\n",
        "    return keras.Sequential(fnn_layers, name=name)"
      ],
      "execution_count": 3,
      "outputs": []
    },
    {
      "cell_type": "markdown",
      "metadata": {
        "id": "V6SSUhUoPWqd"
      },
      "source": [
        "\n",
        "\n",
        "---\n",
        "\n"
      ]
    },
    {
      "cell_type": "markdown",
      "metadata": {
        "id": "CFEMEatTdaAN"
      },
      "source": [
        "## Data preparation"
      ]
    },
    {
      "cell_type": "code",
      "metadata": {
        "colab": {
          "base_uri": "https://localhost:8080/"
        },
        "id": "WQ-ws_UNPUoU",
        "outputId": "16683d67-f874-4da6-ba31-2271f3124070"
      },
      "source": [
        "from google.colab import drive\n",
        "drive.mount('/content/drive')"
      ],
      "execution_count": 4,
      "outputs": [
        {
          "output_type": "stream",
          "name": "stdout",
          "text": [
            "Drive already mounted at /content/drive; to attempt to forcibly remount, call drive.mount(\"/content/drive\", force_remount=True).\n"
          ]
        }
      ]
    },
    {
      "cell_type": "code",
      "metadata": {
        "colab": {
          "base_uri": "https://localhost:8080/"
        },
        "id": "DbgXqE0qPgAB",
        "outputId": "bd9e08ee-be27-42b7-f27e-0b3119d83235"
      },
      "source": [
        "cd drive/MyDrive/GCN_elliptic_project/"
      ],
      "execution_count": 5,
      "outputs": [
        {
          "output_type": "stream",
          "name": "stdout",
          "text": [
            "/content/drive/MyDrive/GCN_elliptic_project\n"
          ]
        }
      ]
    },
    {
      "cell_type": "code",
      "metadata": {
        "colab": {
          "base_uri": "https://localhost:8080/"
        },
        "id": "6JrSJ0VXPihU",
        "outputId": "f741ac59-f91a-4221-e763-66796b40c14d"
      },
      "source": [
        "!unzip Elliptic_kaggle_Dataset.zip  -d /content"
      ],
      "execution_count": 8,
      "outputs": [
        {
          "output_type": "stream",
          "name": "stdout",
          "text": [
            "Archive:  Elliptic_kaggle_Dataset.zip\n",
            "replace /content/elliptic_bitcoin_dataset/elliptic_txs_classes.csv? [y]es, [n]o, [A]ll, [N]one, [r]ename: "
          ]
        }
      ]
    },
    {
      "cell_type": "code",
      "metadata": {
        "colab": {
          "base_uri": "https://localhost:8080/"
        },
        "id": "0RV40PaVPlHe",
        "outputId": "5bbf7bec-ae1f-4691-edfa-ee0208fbcfc8"
      },
      "source": [
        "cd /content/elliptic_bitcoin_dataset/"
      ],
      "execution_count": 6,
      "outputs": [
        {
          "output_type": "stream",
          "name": "stdout",
          "text": [
            "/content/elliptic_bitcoin_dataset\n"
          ]
        }
      ]
    },
    {
      "cell_type": "code",
      "metadata": {
        "id": "lU2jZCzFPnio"
      },
      "source": [
        "edges = pd.read_csv(\"elliptic_txs_edgelist.csv\")\n",
        "features = pd.read_csv(\"elliptic_txs_features.csv\",header=None)\n",
        "classes = pd.read_csv(\"elliptic_txs_classes.csv\")"
      ],
      "execution_count": 7,
      "outputs": []
    },
    {
      "cell_type": "code",
      "metadata": {
        "colab": {
          "base_uri": "https://localhost:8080/"
        },
        "id": "qWn1usGGeh6S",
        "outputId": "3a0ce76c-38ee-4055-8419-a0489a77eb2d"
      },
      "source": [
        "print(edges.shape)\n",
        "print(features.shape)"
      ],
      "execution_count": 18,
      "outputs": [
        {
          "output_type": "stream",
          "name": "stdout",
          "text": [
            "(36624, 2)\n",
            "(46564, 168)\n"
          ]
        }
      ]
    },
    {
      "cell_type": "markdown",
      "metadata": {
        "id": "8f9scWH6P5An"
      },
      "source": [
        "Name all the features, differentiate features (only node, multiple nodes) and go for 0 class instead of unknown "
      ]
    },
    {
      "cell_type": "code",
      "metadata": {
        "id": "4OunHGzMPqgU"
      },
      "source": [
        "tx_features = [\"tx_feat_\"+str(i) for i in range(2,95)]\n",
        "agg_features = [\"agg_feat_\"+str(i) for i in range(1,73)]\n",
        "features.columns = [\"txId\",\"time_step\"] + tx_features + agg_features\n",
        "\n",
        "#merge features and classes\n",
        "features = pd.merge(features,classes,left_on=\"txId\",right_on=\"txId\",how='left')\n",
        "features['class'] = features['class'].apply(lambda x: '0' if x == \"unknown\" else x)"
      ],
      "execution_count": 8,
      "outputs": []
    },
    {
      "cell_type": "markdown",
      "metadata": {
        "id": "SWafpzkXRUbM"
      },
      "source": [
        "Remove all the unknown part of the network, for now\n"
      ]
    },
    {
      "cell_type": "code",
      "metadata": {
        "id": "JFbxQOSrRTd9"
      },
      "source": [
        "features= features[features['class'] != '0' ]\n"
      ],
      "execution_count": 9,
      "outputs": []
    },
    {
      "cell_type": "code",
      "metadata": {
        "id": "j1jyBk_sWCmW"
      },
      "source": [
        "def check(name):\n",
        "  if(name in unique):\n",
        "    return name \n",
        "  else : \n",
        "    return -1 "
      ],
      "execution_count": 12,
      "outputs": []
    },
    {
      "cell_type": "code",
      "metadata": {
        "id": "mN257FzhSY1A"
      },
      "source": [
        "unique = features['txId'].unique()\n",
        "edges[\"txId1\"] = edges[\"txId1\"].apply(lambda name: check(name))\n",
        "edges[\"txId2\"] = edges[\"txId2\"].apply(lambda name: check(name))"
      ],
      "execution_count": 13,
      "outputs": []
    },
    {
      "cell_type": "code",
      "metadata": {
        "id": "s6k05wOjaorH"
      },
      "source": [
        "edges = edges[edges[\"txId1\"] != -1 ]\n",
        "edges = edges[edges[\"txId2\"] != -1 ]"
      ],
      "execution_count": 14,
      "outputs": []
    },
    {
      "cell_type": "code",
      "metadata": {
        "colab": {
          "base_uri": "https://localhost:8080/"
        },
        "id": "mP1Pybg4eawf",
        "outputId": "9b6ebc16-1402-4e17-b92a-0d284fb309e9"
      },
      "source": [
        "print(edges.shape)\n",
        "print(features.shape)"
      ],
      "execution_count": 17,
      "outputs": [
        {
          "output_type": "stream",
          "name": "stdout",
          "text": [
            "(36624, 2)\n",
            "(46564, 168)\n"
          ]
        }
      ]
    },
    {
      "cell_type": "markdown",
      "metadata": {
        "id": "C_X3nxitQ9SP"
      },
      "source": [
        "Change the txID in both features and edges to a simple index. This makes the computation of the adjency matrix easier"
      ]
    },
    {
      "cell_type": "code",
      "metadata": {
        "id": "gHE2VQ1EP4BK"
      },
      "source": [
        "class_values = sorted(features[\"class\"].unique())\n",
        "features_idx = {name: idx for idx, name in enumerate(sorted(features[\"txId\"].unique()))}\n",
        "\n",
        "features[\"txId\"] = features[\"txId\"].apply(lambda name: features_idx[name])\n",
        "edges[\"txId1\"] = edges[\"txId1\"].apply(lambda name: features_idx[name])\n",
        "edges[\"txId2\"] = edges[\"txId2\"].apply(lambda name: features_idx[name])"
      ],
      "execution_count": 19,
      "outputs": []
    },
    {
      "cell_type": "code",
      "metadata": {
        "colab": {
          "base_uri": "https://localhost:8080/"
        },
        "id": "6U_K8K__dBhb",
        "outputId": "2a1e993f-23f2-4c16-a012-fe0610dcace3"
      },
      "source": [
        "# Create an edges array (sparse adjacency matrix) of shape [2, num_edges].\n",
        "edges2 = edges[[\"txId1\", \"txId2\"]].to_numpy().T\n",
        "# Create an edge weights array of ones.\n",
        "edge_weights = tf.ones(shape=edges2.shape[1])\n",
        "# Create a node features array of shape [num_nodes, num_features].\n",
        "# IN the next line we select the features to include in the graph \n",
        "# Notice than only tx_features are present!\n",
        "\n",
        "node_features = tf.cast(\n",
        "    features.sort_values(\"txId\")[tx_features].to_numpy(), dtype=tf.dtypes.float32\n",
        ")\n",
        "# Create graph info tuple with node_features, edges, and edge_weights.\n",
        "graph_info = (node_features, edges2, edge_weights)\n",
        "\n",
        "print(\"Edges shape:\", edges2.shape)\n",
        "print(\"Nodes shape:\", node_features.shape)\n",
        "print(\"edge weights shape:\", edge_weights.shape)"
      ],
      "execution_count": 20,
      "outputs": [
        {
          "output_type": "stream",
          "name": "stdout",
          "text": [
            "Edges shape: (2, 36624)\n",
            "Nodes shape: (46564, 93)\n",
            "edge weights shape: (36624,)\n"
          ]
        }
      ]
    },
    {
      "cell_type": "code",
      "metadata": {
        "colab": {
          "base_uri": "https://localhost:8080/"
        },
        "id": "r4AQMVlOdJEu",
        "outputId": "f14aa326-7035-4bc1-e466-f58d28284eae"
      },
      "source": [
        "# Define the parameters for the network \n",
        "\n",
        "num_classes = len(class_values)\n",
        "print(\"num classes = \" , num_classes)\n",
        "\n",
        "hidden_units = [16, 16]\n",
        "learning_rate = 0.01\n",
        "dropout_rate = 0.5\n",
        "#0.5\n",
        "num_epochs = 15\n",
        "batch_size = 256\n",
        "#256"
      ],
      "execution_count": 61,
      "outputs": [
        {
          "output_type": "stream",
          "name": "stdout",
          "text": [
            "num classes =  2\n"
          ]
        }
      ]
    },
    {
      "cell_type": "markdown",
      "metadata": {
        "id": "b_W4bDrRdT0y"
      },
      "source": [
        "### Implementing the convoluted network "
      ]
    },
    {
      "cell_type": "code",
      "metadata": {
        "id": "B8L_AyL9dX9s"
      },
      "source": [
        "class GraphConvLayer(layers.Layer):\n",
        "    def __init__(\n",
        "        self,\n",
        "        hidden_units,\n",
        "        dropout_rate=0.2,\n",
        "        aggregation_type=\"mean\",\n",
        "        combination_type=\"concat\",\n",
        "        normalize=False,\n",
        "        *args,\n",
        "        **kwargs,\n",
        "    ):\n",
        "        super(GraphConvLayer, self).__init__(*args, **kwargs)\n",
        "\n",
        "        self.aggregation_type = aggregation_type\n",
        "        self.combination_type = combination_type\n",
        "        self.normalize = normalize\n",
        "\n",
        "        self.ffn_prepare = create_ffn(hidden_units, dropout_rate)\n",
        "        if self.combination_type == \"gated\":\n",
        "            self.update_fn = layers.GRU(\n",
        "                units=hidden_units,\n",
        "                activation=\"tanh\",\n",
        "                recurrent_activation=\"sigmoid\",\n",
        "                dropout=dropout_rate,\n",
        "                return_state=True,\n",
        "                recurrent_dropout=dropout_rate,\n",
        "            )\n",
        "        else:\n",
        "            self.update_fn = create_ffn(hidden_units, dropout_rate)\n",
        "\n",
        "    def prepare(self, node_repesentations, weights=None):\n",
        "        # node_repesentations shape is [num_edges, embedding_dim].\n",
        "        messages = self.ffn_prepare(node_repesentations)\n",
        "        if weights is not None:\n",
        "            messages = messages * tf.expand_dims(weights, -1)\n",
        "        return messages\n",
        "\n",
        "    def aggregate(self, node_indices, neighbour_messages):\n",
        "        # node_indices shape is [num_edges].\n",
        "        # neighbour_messages shape: [num_edges, representation_dim].\n",
        "        num_nodes = tf.math.reduce_max(node_indices) + 1\n",
        "        if self.aggregation_type == \"sum\":\n",
        "            aggregated_message = tf.math.unsorted_segment_sum(\n",
        "                neighbour_messages, node_indices, num_segments=num_nodes\n",
        "            )\n",
        "        elif self.aggregation_type == \"mean\":\n",
        "            aggregated_message = tf.math.unsorted_segment_mean(\n",
        "                neighbour_messages, node_indices, num_segments=num_nodes\n",
        "            )\n",
        "        elif self.aggregation_type == \"max\":\n",
        "            aggregated_message = tf.math.unsorted_segment_max(\n",
        "                neighbour_messages, node_indices, num_segments=num_nodes\n",
        "            )\n",
        "        else:\n",
        "            raise ValueError(f\"Invalid aggregation type: {self.aggregation_type}.\")\n",
        "\n",
        "        return aggregated_message\n",
        "\n",
        "    def update(self, node_repesentations, aggregated_messages):\n",
        "        # node_repesentations shape is [num_nodes, representation_dim].\n",
        "        # aggregated_messages shape is [num_nodes, representation_dim].\n",
        "        if self.combination_type == \"gru\":\n",
        "            # Create a sequence of two elements for the GRU layer.\n",
        "            h = tf.stack([node_repesentations, aggregated_messages], axis=1)\n",
        "        elif self.combination_type == \"concat\":\n",
        "            # Concatenate the node_repesentations and aggregated_messages.\n",
        "            h = tf.concat([node_repesentations, aggregated_messages], axis=1)\n",
        "        elif self.combination_type == \"add\":\n",
        "            # Add node_repesentations and aggregated_messages.\n",
        "            h = node_repesentations + aggregated_messages\n",
        "        else:\n",
        "            raise ValueError(f\"Invalid combination type: {self.combination_type}.\")\n",
        "\n",
        "        # Apply the processing function.\n",
        "        node_embeddings = self.update_fn(h)\n",
        "        if self.combination_type == \"gru\":\n",
        "            node_embeddings = tf.unstack(node_embeddings, axis=1)[-1]\n",
        "\n",
        "        if self.normalize:\n",
        "            node_embeddings = tf.nn.l2_normalize(node_embeddings, axis=-1)\n",
        "        return node_embeddings\n",
        "\n",
        "    def call(self, inputs):\n",
        "        \"\"\"Process the inputs to produce the node_embeddings.\n",
        "\n",
        "        inputs: a tuple of three elements: node_repesentations, edges, edge_weights.\n",
        "        Returns: node_embeddings of shape [num_nodes, representation_dim].\n",
        "        \"\"\"\n",
        "\n",
        "        node_repesentations, edges, edge_weights = inputs\n",
        "        # Get node_indices (source) and neighbour_indices (target) from edges.\n",
        "        node_indices, neighbour_indices = edges[0], edges[1]\n",
        "        # neighbour_repesentations shape is [num_edges, representation_dim].\n",
        "        neighbour_repesentations = tf.gather(node_repesentations, neighbour_indices)\n",
        "\n",
        "        # Prepare the messages of the neighbours.\n",
        "        neighbour_messages = self.prepare(neighbour_repesentations, edge_weights)\n",
        "        # Aggregate the neighbour messages.\n",
        "        aggregated_messages = self.aggregate(node_indices, neighbour_messages)\n",
        "        # Update the node embedding with the neighbour messages.\n",
        "        return self.update(node_repesentations, aggregated_messages)\n"
      ],
      "execution_count": 34,
      "outputs": []
    },
    {
      "cell_type": "code",
      "metadata": {
        "id": "rN3YYGsKdtC0"
      },
      "source": [
        "class GNNNodeClassifier(tf.keras.Model):\n",
        "    def __init__(\n",
        "        self,\n",
        "        graph_info,\n",
        "        num_classes,\n",
        "        hidden_units,\n",
        "        aggregation_type=\"sum\",\n",
        "        combination_type=\"concat\",\n",
        "        dropout_rate=0.2,\n",
        "        normalize=True,\n",
        "        *args,\n",
        "        **kwargs,\n",
        "    ):\n",
        "        super(GNNNodeClassifier, self).__init__(*args, **kwargs)\n",
        "\n",
        "        # Unpack graph_info to three elements: node_features, edges, and edge_weight.\n",
        "        node_features, edges, edge_weights = graph_info\n",
        "        self.node_features = node_features\n",
        "        self.edges = edges\n",
        "        self.edge_weights = edge_weights\n",
        "        # Set edge_weights to ones if not provided.\n",
        "        if self.edge_weights is None:\n",
        "            self.edge_weights = tf.ones(shape=edges.shape[1])\n",
        "        # Scale edge_weights to sum to 1.\n",
        "        self.edge_weights = self.edge_weights / tf.math.reduce_sum(self.edge_weights)\n",
        "\n",
        "        # Create a process layer.\n",
        "        self.preprocess = create_ffn(hidden_units, dropout_rate, name=\"preprocess\")\n",
        "        # Create the first GraphConv layer.\n",
        "        self.conv1 = GraphConvLayer(\n",
        "            hidden_units,\n",
        "            dropout_rate,\n",
        "            aggregation_type,\n",
        "            combination_type,\n",
        "            normalize,\n",
        "            name=\"graph_conv1\",\n",
        "        )\n",
        "        # Create the second GraphConv layer.\n",
        "        self.conv2 = GraphConvLayer(\n",
        "            hidden_units,\n",
        "            dropout_rate,\n",
        "            aggregation_type,\n",
        "            combination_type,\n",
        "            normalize,\n",
        "            name=\"graph_conv2\",\n",
        "        )\n",
        "        # Create a postprocess layer.\n",
        "        self.postprocess = create_ffn(hidden_units, dropout_rate, name=\"postprocess\")\n",
        "        # Create a compute logits layer.\n",
        "        self.compute_logits = layers.Dense(units=num_classes, name=\"logits\")\n",
        "\n",
        "    def call(self, input_node_indices):\n",
        "        # Preprocess the node_features to produce node representations.\n",
        "        x = self.preprocess(self.node_features)\n",
        "        # Apply the first graph conv layer.\n",
        "        x1 = self.conv1((x, self.edges, self.edge_weights))\n",
        "        # Skip connection.\n",
        "        x = x1 + x\n",
        "        # Apply the second graph conv layer.\n",
        "        x2 = self.conv2((x, self.edges, self.edge_weights))\n",
        "        # Skip connection.\n",
        "        x = x2 + x\n",
        "        # Postprocess node embedding.\n",
        "        x = self.postprocess(x)\n",
        "        # Fetch node embeddings for the input node_indices.\n",
        "        node_embeddings = tf.squeeze(tf.gather(x, input_node_indices))\n",
        "        # Compute logits\n",
        "        return self.compute_logits(node_embeddings)\n"
      ],
      "execution_count": 23,
      "outputs": []
    },
    {
      "cell_type": "code",
      "metadata": {
        "colab": {
          "base_uri": "https://localhost:8080/"
        },
        "id": "MN6q0BVFdz7g",
        "outputId": "568b4202-edbc-49d4-e6f8-68f386c97ed1"
      },
      "source": [
        "gnn_model = GNNNodeClassifier(\n",
        "    graph_info=graph_info,\n",
        "    num_classes=num_classes,\n",
        "    hidden_units=hidden_units,\n",
        "    dropout_rate=dropout_rate,\n",
        "    name=\"gnn_model\",\n",
        ")\n",
        "\n",
        "print(\"GNN output shape:\", gnn_model([1,10,100]))\n",
        "\n",
        "gnn_model.summary()"
      ],
      "execution_count": 62,
      "outputs": [
        {
          "output_type": "stream",
          "name": "stdout",
          "text": [
            "GNN output shape: tf.Tensor(\n",
            "[[ 4.6425092e-01  3.8040507e+00]\n",
            " [-2.9657626e-01  2.8956980e-03]\n",
            " [-1.6206534e-01  7.2608851e-02]], shape=(3, 2), dtype=float32)\n",
            "Model: \"gnn_model\"\n",
            "_________________________________________________________________\n",
            "Layer (type)                 Output Shape              Param #   \n",
            "=================================================================\n",
            "preprocess (Sequential)      (46564, 16)               2212      \n",
            "_________________________________________________________________\n",
            "graph_conv1 (GraphConvLayer) multiple                  1664      \n",
            "_________________________________________________________________\n",
            "graph_conv2 (GraphConvLayer) multiple                  1664      \n",
            "_________________________________________________________________\n",
            "postprocess (Sequential)     (46564, 16)               672       \n",
            "_________________________________________________________________\n",
            "logits (Dense)               multiple                  34        \n",
            "=================================================================\n",
            "Total params: 6,246\n",
            "Trainable params: 5,644\n",
            "Non-trainable params: 602\n",
            "_________________________________________________________________\n"
          ]
        }
      ]
    },
    {
      "cell_type": "markdown",
      "metadata": {
        "id": "G6uF8iedenri"
      },
      "source": [
        "### Train the network"
      ]
    },
    {
      "cell_type": "code",
      "metadata": {
        "id": "AFqlM_UMerPI"
      },
      "source": [
        "from sklearn.model_selection import train_test_split\n",
        "\n",
        "X = features[tx_features + ['txId'] ]\n",
        "y = features['class']\n",
        "y = y.apply(lambda x: 0 if x == '2' else 1 )\n",
        "X_train, X_test, y_train, y_test = train_test_split(X,y,test_size=0.3,random_state=15,shuffle=False)"
      ],
      "execution_count": 63,
      "outputs": []
    },
    {
      "cell_type": "code",
      "metadata": {
        "colab": {
          "base_uri": "https://localhost:8080/"
        },
        "id": "hISawx7HgWxb",
        "outputId": "0e48137c-2144-41b7-fda6-50699ae76143"
      },
      "source": [
        "# for training I only need txID, everything else is already in the network \n",
        "x_train = X_train.txId.to_numpy()\n",
        "history = run_experiment(gnn_model, x_train, y_train)"
      ],
      "execution_count": 64,
      "outputs": [
        {
          "output_type": "stream",
          "name": "stdout",
          "text": [
            "Epoch 1/15\n",
            "109/109 [==============================] - 51s 439ms/step - loss: 0.3501 - acc: 0.8762 - val_loss: 0.3022 - val_acc: 0.8800\n",
            "Epoch 2/15\n",
            "109/109 [==============================] - 47s 432ms/step - loss: 0.2670 - acc: 0.8886 - val_loss: 0.2438 - val_acc: 0.8800\n",
            "Epoch 3/15\n",
            "109/109 [==============================] - 47s 434ms/step - loss: 0.2340 - acc: 0.8952 - val_loss: 0.2155 - val_acc: 0.8800\n",
            "Epoch 4/15\n",
            "109/109 [==============================] - 47s 434ms/step - loss: 0.2124 - acc: 0.9160 - val_loss: 0.2398 - val_acc: 0.8800\n",
            "Epoch 5/15\n",
            "109/109 [==============================] - 47s 435ms/step - loss: 0.1966 - acc: 0.9278 - val_loss: 0.1433 - val_acc: 0.9587\n",
            "Epoch 6/15\n",
            "109/109 [==============================] - 48s 437ms/step - loss: 0.1831 - acc: 0.9337 - val_loss: 0.1361 - val_acc: 0.9630\n",
            "Epoch 7/15\n",
            "109/109 [==============================] - 48s 438ms/step - loss: 0.1830 - acc: 0.9356 - val_loss: 0.1273 - val_acc: 0.9571\n",
            "Epoch 8/15\n",
            "109/109 [==============================] - 48s 440ms/step - loss: 0.1773 - acc: 0.9378 - val_loss: 0.1166 - val_acc: 0.9726\n",
            "Epoch 9/15\n",
            "109/109 [==============================] - 48s 443ms/step - loss: 0.1734 - acc: 0.9391 - val_loss: 0.1156 - val_acc: 0.9703\n",
            "Epoch 10/15\n",
            "109/109 [==============================] - 48s 443ms/step - loss: 0.1699 - acc: 0.9400 - val_loss: 0.1087 - val_acc: 0.9746\n",
            "Epoch 11/15\n",
            "109/109 [==============================] - 68s 626ms/step - loss: 0.1697 - acc: 0.9409 - val_loss: 0.1157 - val_acc: 0.9730\n",
            "Epoch 12/15\n",
            "109/109 [==============================] - 69s 632ms/step - loss: 0.1651 - acc: 0.9435 - val_loss: 0.1200 - val_acc: 0.9724\n",
            "Epoch 13/15\n",
            "109/109 [==============================] - 67s 618ms/step - loss: 0.1620 - acc: 0.9443 - val_loss: 0.1082 - val_acc: 0.9777\n",
            "Epoch 14/15\n",
            "109/109 [==============================] - 67s 612ms/step - loss: 0.1588 - acc: 0.9446 - val_loss: 0.1073 - val_acc: 0.9753\n",
            "Epoch 15/15\n",
            "109/109 [==============================] - 66s 610ms/step - loss: 0.1570 - acc: 0.9485 - val_loss: 0.1013 - val_acc: 0.9791\n"
          ]
        }
      ]
    },
    {
      "cell_type": "code",
      "metadata": {
        "colab": {
          "base_uri": "https://localhost:8080/",
          "height": 334
        },
        "id": "vF6rgI9tgx49",
        "outputId": "15503f9f-69fe-4e4e-a73f-97f24fd25cf9"
      },
      "source": [
        "display_learning_curves(history)"
      ],
      "execution_count": 65,
      "outputs": [
        {
          "output_type": "display_data",
          "data": {
            "image/png": "[encoded data removed]",
            "text/plain": [
              "<Figure size 1080x360 with 2 Axes>"
            ]
          },
          "metadata": {
            "needs_background": "light"
          }
        }
      ]
    },
    {
      "cell_type": "markdown",
      "metadata": {
        "id": "GNg-wNVSjiKE"
      },
      "source": [
        "### Test the results"
      ]
    },
    {
      "cell_type": "code",
      "metadata": {
        "colab": {
          "base_uri": "https://localhost:8080/"
        },
        "id": "bd1TDwppg0SI",
        "outputId": "0829e1fe-68d7-4218-f199-e9e40bbe900f"
      },
      "source": [
        "x_test = X_test.txId.to_numpy()\n",
        "_, test_accuracy = gnn_model.evaluate(x=x_test, y=y_test, verbose=0)\n",
        "print(f\"Test accuracy: {round(test_accuracy * 100, 2)}%\")"
      ],
      "execution_count": 38,
      "outputs": [
        {
          "output_type": "stream",
          "name": "stdout",
          "text": [
            "Test accuracy: 93.71%\n"
          ]
        }
      ]
    },
    {
      "cell_type": "code",
      "metadata": {
        "id": "v3aSDn2bg2Ir"
      },
      "source": [
        "preds = gnn_model.predict(x_test)"
      ],
      "execution_count": 66,
      "outputs": []
    },
    {
      "cell_type": "code",
      "metadata": {
        "id": "LK68Cg0Fg4kl"
      },
      "source": [
        "norm_preds = sklearn.preprocessing.normalize(preds)\n",
        "\n",
        "y_predicted = []\n",
        "for pred in norm_preds:\n",
        "  if pred[0] > pred[1]:\n",
        "    y_predicted.append(0)\n",
        "  else :\n",
        "    y_predicted.append(1)"
      ],
      "execution_count": 74,
      "outputs": []
    },
    {
      "cell_type": "code",
      "metadata": {
        "colab": {
          "base_uri": "https://localhost:8080/"
        },
        "id": "iAHGJplzjgP6",
        "outputId": "3afe9250-f398-4188-e3d6-549ac206bee9"
      },
      "source": [
        "prec,rec,f1,num = sklearn.metrics.precision_recall_fscore_support(y_test,y_predicted, average=None)\n",
        "print(\"Convoluted neural network\")\n",
        "print(\"Precision:%.3f \\nRecall:%.3f \\nF1 Score:%.3f\"%(prec[1],rec[1],f1[1]))\n",
        "micro_f1 = sklearn.metrics.f1_score(y_test,y_predicted,average='micro')\n",
        "print(\"Micro-Average F1 Score:\",micro_f1)"
      ],
      "execution_count": 68,
      "outputs": [
        {
          "output_type": "stream",
          "name": "stdout",
          "text": [
            "A bit better neural network (still shit)\n",
            "Precision:0.919 \n",
            "Recall:0.605 \n",
            "F1 Score:0.730\n",
            "Micro-Average F1 Score: 0.9717967072297781\n"
          ]
        }
      ]
    }
  ]
}